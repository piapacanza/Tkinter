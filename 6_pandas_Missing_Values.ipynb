{
  "nbformat": 4,
  "nbformat_minor": 0,
  "metadata": {
    "kernelspec": {
      "display_name": "Python 3",
      "language": "python",
      "name": "python3"
    },
    "language_info": {
      "codemirror_mode": {
        "name": "ipython",
        "version": 3
      },
      "file_extension": ".py",
      "mimetype": "text/x-python",
      "name": "python",
      "nbconvert_exporter": "python",
      "pygments_lexer": "ipython3",
      "version": "3.8.5"
    },
    "colab": {
      "name": "6 - pandas - Missing Values.ipynb",
      "provenance": [],
      "include_colab_link": true
    }
  },
  "cells": [
    {
      "cell_type": "markdown",
      "metadata": {
        "id": "view-in-github",
        "colab_type": "text"
      },
      "source": [
        "<a href=\"https://colab.research.google.com/github/piapacanza/Tkinter/blob/master/6_pandas_Missing_Values.ipynb\" target=\"_parent\"><img src=\"https://colab.research.google.com/assets/colab-badge.svg\" alt=\"Open In Colab\"/></a>"
      ]
    },
    {
      "cell_type": "markdown",
      "metadata": {
        "id": "O6Gf4fIcAKhZ"
      },
      "source": [
        "# Missing Values\n",
        "\n",
        "In this lecture, you will learn how could we remove or fill-in the empty values in our DataFrame"
      ]
    },
    {
      "cell_type": "code",
      "metadata": {
        "id": "O75bXJZcAKhj"
      },
      "source": [
        "import numpy as np"
      ],
      "execution_count": null,
      "outputs": []
    },
    {
      "cell_type": "code",
      "metadata": {
        "id": "qX8qUYilAKhl"
      },
      "source": [
        "import pandas as pd"
      ],
      "execution_count": null,
      "outputs": []
    },
    {
      "cell_type": "markdown",
      "metadata": {
        "id": "IJozu6xRAKhn"
      },
      "source": [
        "## Create a sample DataFrame with missing values"
      ]
    },
    {
      "cell_type": "code",
      "metadata": {
        "id": "6rT9K3NqAKho"
      },
      "source": [
        "data = {\n",
        "    'A': [\n",
        "        1,\n",
        "        2,\n",
        "        np.nan\n",
        "    ],\n",
        "    'B': [\n",
        "        1,\n",
        "        np.nan,\n",
        "        np.nan\n",
        "    ],\n",
        "    'C': [\n",
        "        1,\n",
        "        2,\n",
        "        3\n",
        "    ]\n",
        "}"
      ],
      "execution_count": null,
      "outputs": []
    },
    {
      "cell_type": "code",
      "metadata": {
        "id": "nCzHP_SPAKhp"
      },
      "source": [
        "data"
      ],
      "execution_count": null,
      "outputs": []
    },
    {
      "cell_type": "code",
      "metadata": {
        "id": "i6NPCyvxAKhq"
      },
      "source": [
        "df = pd.DataFrame(data)"
      ],
      "execution_count": null,
      "outputs": []
    },
    {
      "cell_type": "code",
      "metadata": {
        "id": "ceIMkitJAKhs"
      },
      "source": [
        "df"
      ],
      "execution_count": null,
      "outputs": []
    },
    {
      "cell_type": "markdown",
      "metadata": {
        "id": "7Vtcpbm6AKhu"
      },
      "source": [
        "## Removing NaN"
      ]
    },
    {
      "cell_type": "code",
      "metadata": {
        "id": "RVfwBExeAKhy"
      },
      "source": [
        "\"\"\"\n",
        "dropna\n",
        "\n",
        "Signature: df.dropna(axis=0, how='any', thresh=None, subset=None, inplace=False)\n",
        "Docstring:\n",
        "Remove missing values.\n",
        "\"\"\"\n",
        "\n",
        "df.dropna()"
      ],
      "execution_count": null,
      "outputs": []
    },
    {
      "cell_type": "code",
      "metadata": {
        "id": "lS-JdrBuAKh0"
      },
      "source": [
        "# Remove all columns with NaN\n",
        "df.dropna(axis=1)"
      ],
      "execution_count": null,
      "outputs": []
    },
    {
      "cell_type": "code",
      "metadata": {
        "id": "buMsRJjkAKh1"
      },
      "source": [
        "# Remove all rows that doesn't contain atleast 2 values\n",
        "df.dropna(thresh=1)"
      ],
      "execution_count": null,
      "outputs": []
    },
    {
      "cell_type": "markdown",
      "metadata": {
        "id": "QH2uZ8coAKh3"
      },
      "source": [
        "## Activity: Add a new column in our example DataFrame and remove all columns that doesn't contain atleast 3 values"
      ]
    },
    {
      "cell_type": "code",
      "metadata": {
        "id": "cdOJfx-gAKh6"
      },
      "source": [
        "# your code goes here"
      ],
      "execution_count": null,
      "outputs": []
    },
    {
      "cell_type": "markdown",
      "metadata": {
        "id": "zEsbK670AKh7"
      },
      "source": [
        "## Fill NaN values"
      ]
    },
    {
      "cell_type": "code",
      "metadata": {
        "id": "0U2oAoF3AKh8"
      },
      "source": [
        "# Review of our DataFrame\n",
        "df"
      ],
      "execution_count": null,
      "outputs": []
    },
    {
      "cell_type": "code",
      "metadata": {
        "id": "Ton09ypuAKh9"
      },
      "source": [
        "df.fillna(\"FILL\")"
      ],
      "execution_count": null,
      "outputs": []
    },
    {
      "cell_type": "code",
      "metadata": {
        "id": "rszO314lAKh9"
      },
      "source": [
        ""
      ],
      "execution_count": null,
      "outputs": []
    }
  ]
}
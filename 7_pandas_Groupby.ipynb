{
  "nbformat": 4,
  "nbformat_minor": 0,
  "metadata": {
    "kernelspec": {
      "display_name": "Python 3",
      "language": "python",
      "name": "python3"
    },
    "language_info": {
      "codemirror_mode": {
        "name": "ipython",
        "version": 3
      },
      "file_extension": ".py",
      "mimetype": "text/x-python",
      "name": "python",
      "nbconvert_exporter": "python",
      "pygments_lexer": "ipython3",
      "version": "3.8.5"
    },
    "colab": {
      "name": "7 - pandas - Groupby.ipynb",
      "provenance": [],
      "include_colab_link": true
    }
  },
  "cells": [
    {
      "cell_type": "markdown",
      "metadata": {
        "id": "view-in-github",
        "colab_type": "text"
      },
      "source": [
        "<a href=\"https://colab.research.google.com/github/piapacanza/Tkinter/blob/master/7_pandas_Groupby.ipynb\" target=\"_parent\"><img src=\"https://colab.research.google.com/assets/colab-badge.svg\" alt=\"Open In Colab\"/></a>"
      ]
    },
    {
      "cell_type": "markdown",
      "metadata": {
        "id": "mLtWhRzRQJgj"
      },
      "source": [
        "# pandas - Groupby\n",
        "\n",
        "In this section, you will learn how we could group data from our DataFrame"
      ]
    },
    {
      "cell_type": "code",
      "metadata": {
        "id": "_kpfELjTQJg8"
      },
      "source": [
        "import numpy as np"
      ],
      "execution_count": null,
      "outputs": []
    },
    {
      "cell_type": "code",
      "metadata": {
        "id": "qRlOEJ-AQJg_"
      },
      "source": [
        "import pandas as pd"
      ],
      "execution_count": null,
      "outputs": []
    },
    {
      "cell_type": "markdown",
      "metadata": {
        "id": "Azn4HU5PQJhB"
      },
      "source": [
        "## Our test data"
      ]
    },
    {
      "cell_type": "code",
      "metadata": {
        "id": "oh1HXK3pQJhB"
      },
      "source": [
        "data = {\n",
        "    \"Person\": [\"Juan\", \"Maria\", \"Mark\", \"Luna\", \"Pedro\"],\n",
        "    \"Company\": [\"FB\", \"GOG\", \"FB\", \"GOG\", \"INSTA\"],\n",
        "    \"Sales\": [700, 800, 400, 200, 700]\n",
        "}"
      ],
      "execution_count": null,
      "outputs": []
    },
    {
      "cell_type": "code",
      "metadata": {
        "id": "mGTgGDs1QJhD"
      },
      "source": [
        "df = pd.DataFrame(data)"
      ],
      "execution_count": null,
      "outputs": []
    },
    {
      "cell_type": "code",
      "metadata": {
        "id": "lftKk0_aQJhE"
      },
      "source": [
        "df"
      ],
      "execution_count": null,
      "outputs": []
    },
    {
      "cell_type": "markdown",
      "metadata": {
        "id": "JYD3YN2LQJhG"
      },
      "source": [
        "## GroupBy"
      ]
    },
    {
      "cell_type": "code",
      "metadata": {
        "id": "ZQDwYYjWQJhH"
      },
      "source": [
        "companies_data = df.groupby(by=\"Company\")"
      ],
      "execution_count": null,
      "outputs": []
    },
    {
      "cell_type": "code",
      "metadata": {
        "id": "eOSHGsCKQJhK"
      },
      "source": [
        "companies_data.mean() # Compute mean of groups, excluding missing values."
      ],
      "execution_count": null,
      "outputs": []
    },
    {
      "cell_type": "code",
      "metadata": {
        "id": "_ko9jgTUQJhM"
      },
      "source": [
        "companies_data.sum()"
      ],
      "execution_count": null,
      "outputs": []
    },
    {
      "cell_type": "code",
      "metadata": {
        "id": "mLVad0YjQJhN"
      },
      "source": [
        "companies_data.std() # Compute standard deviation of groups, excluding missing values."
      ],
      "execution_count": null,
      "outputs": []
    },
    {
      "cell_type": "markdown",
      "metadata": {
        "id": "HvqdZY67QJhO"
      },
      "source": [
        "## One-liners"
      ]
    },
    {
      "cell_type": "code",
      "metadata": {
        "id": "Ex7k7ugCQJhP"
      },
      "source": [
        "df.groupby(by=\"Company\").sum()"
      ],
      "execution_count": null,
      "outputs": []
    },
    {
      "cell_type": "code",
      "metadata": {
        "id": "DEUXitw4QJhQ"
      },
      "source": [
        "# Getting specific cell\n",
        "df.groupby(by=\"Company\").sum().loc[\"FB\"]"
      ],
      "execution_count": null,
      "outputs": []
    },
    {
      "cell_type": "code",
      "metadata": {
        "id": "XC9zAufQQJhR"
      },
      "source": [
        "# Counting rows\n",
        "df.groupby(by=\"Company\").count()"
      ],
      "execution_count": null,
      "outputs": []
    },
    {
      "cell_type": "markdown",
      "metadata": {
        "id": "-RrVqD1QQJhS"
      },
      "source": [
        "## Describing"
      ]
    },
    {
      "cell_type": "code",
      "metadata": {
        "id": "jgV16iMuQJhT"
      },
      "source": [
        "df.groupby(by=\"Company\").describe()"
      ],
      "execution_count": null,
      "outputs": []
    },
    {
      "cell_type": "markdown",
      "metadata": {
        "id": "DQIwP2L1QJhU"
      },
      "source": [
        "## Transposing"
      ]
    },
    {
      "cell_type": "code",
      "metadata": {
        "id": "5varDWwaQJhU"
      },
      "source": [
        "df.groupby(by=\"Company\").describe().transpose()"
      ],
      "execution_count": null,
      "outputs": []
    },
    {
      "cell_type": "markdown",
      "metadata": {
        "id": "R9VDu89bQJhV"
      },
      "source": [
        "## Activity: Create your own DataFrame\n",
        "Create your own DataFrame and perform operations discussed."
      ]
    },
    {
      "cell_type": "code",
      "metadata": {
        "id": "n7dSKa24QJhW"
      },
      "source": [
        "# your code goes here"
      ],
      "execution_count": null,
      "outputs": []
    }
  ]
}